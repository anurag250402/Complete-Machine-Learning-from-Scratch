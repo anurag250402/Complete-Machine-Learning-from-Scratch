{
  "nbformat": 4,
  "nbformat_minor": 0,
  "metadata": {
    "colab": {
      "provenance": []
    },
    "kernelspec": {
      "name": "python3",
      "display_name": "Python 3"
    },
    "language_info": {
      "name": "python"
    }
  },
  "cells": [
    {
      "cell_type": "markdown",
      "source": [
        "# Bayesian Optimization for Hyperparameter Tuning"
      ],
      "metadata": {
        "id": "5-qZC_giEii5"
      }
    },
    {
      "cell_type": "code",
      "execution_count": 2,
      "metadata": {
        "id": "Znqr_BAh6BUO",
        "colab": {
          "base_uri": "https://localhost:8080/"
        },
        "outputId": "699fd9b6-e24c-4dfd-b510-2a899e33b6fc"
      },
      "outputs": [
        {
          "output_type": "stream",
          "name": "stdout",
          "text": [
            "Collecting optuna\n",
            "  Downloading optuna-4.4.0-py3-none-any.whl.metadata (17 kB)\n",
            "Collecting alembic>=1.5.0 (from optuna)\n",
            "  Downloading alembic-1.16.2-py3-none-any.whl.metadata (7.3 kB)\n",
            "Collecting colorlog (from optuna)\n",
            "  Downloading colorlog-6.9.0-py3-none-any.whl.metadata (10 kB)\n",
            "Requirement already satisfied: numpy in /usr/local/lib/python3.11/dist-packages (from optuna) (2.0.2)\n",
            "Requirement already satisfied: packaging>=20.0 in /usr/local/lib/python3.11/dist-packages (from optuna) (24.2)\n",
            "Requirement already satisfied: sqlalchemy>=1.4.2 in /usr/local/lib/python3.11/dist-packages (from optuna) (2.0.41)\n",
            "Requirement already satisfied: tqdm in /usr/local/lib/python3.11/dist-packages (from optuna) (4.67.1)\n",
            "Requirement already satisfied: PyYAML in /usr/local/lib/python3.11/dist-packages (from optuna) (6.0.2)\n",
            "Requirement already satisfied: Mako in /usr/lib/python3/dist-packages (from alembic>=1.5.0->optuna) (1.1.3)\n",
            "Requirement already satisfied: typing-extensions>=4.12 in /usr/local/lib/python3.11/dist-packages (from alembic>=1.5.0->optuna) (4.14.0)\n",
            "Requirement already satisfied: greenlet>=1 in /usr/local/lib/python3.11/dist-packages (from sqlalchemy>=1.4.2->optuna) (3.2.3)\n",
            "Downloading optuna-4.4.0-py3-none-any.whl (395 kB)\n",
            "\u001b[2K   \u001b[90m━━━━━━━━━━━━━━━━━━━━━━━━━━━━━━━━━━━━━━━━\u001b[0m \u001b[32m395.9/395.9 kB\u001b[0m \u001b[31m3.8 MB/s\u001b[0m eta \u001b[36m0:00:00\u001b[0m\n",
            "\u001b[?25hDownloading alembic-1.16.2-py3-none-any.whl (242 kB)\n",
            "\u001b[2K   \u001b[90m━━━━━━━━━━━━━━━━━━━━━━━━━━━━━━━━━━━━━━━━\u001b[0m \u001b[32m242.7/242.7 kB\u001b[0m \u001b[31m13.9 MB/s\u001b[0m eta \u001b[36m0:00:00\u001b[0m\n",
            "\u001b[?25hDownloading colorlog-6.9.0-py3-none-any.whl (11 kB)\n",
            "Installing collected packages: colorlog, alembic, optuna\n",
            "Successfully installed alembic-1.16.2 colorlog-6.9.0 optuna-4.4.0\n"
          ]
        }
      ],
      "source": [
        "pip install optuna"
      ]
    },
    {
      "cell_type": "markdown",
      "source": [
        "**Step 1: Import and Prepare Data**"
      ],
      "metadata": {
        "id": "QcODB5LqEsDA"
      }
    },
    {
      "cell_type": "code",
      "source": [
        "from sklearn.datasets import load_iris\n",
        "from sklearn.ensemble import RandomForestClassifier\n",
        "from sklearn.model_selection import cross_val_score, train_test_split\n",
        "from sklearn.metrics import accuracy_score\n",
        "import numpy as np\n",
        "import optuna"
      ],
      "metadata": {
        "id": "KKJCR5g0--DN"
      },
      "execution_count": 4,
      "outputs": []
    },
    {
      "cell_type": "code",
      "source": [
        "x, y = load_iris(return_X_y=True)\n",
        "x_train, x_test, y_train, y_test = train_test_split(x, y, test_size=0.2, random_state=42)"
      ],
      "metadata": {
        "id": "B17bh24D_Hoq"
      },
      "execution_count": 5,
      "outputs": []
    },
    {
      "cell_type": "markdown",
      "source": [
        "**Step 2: Define the Objective Function**\n",
        "\n",
        "This function:\n",
        "\n",
        "*  Takes a trial (suggested hyperparams)\n",
        "*  Builds a model\n",
        "*  Runs cross-validation\n",
        "*  Returns score (to maximize)"
      ],
      "metadata": {
        "id": "gQQPKgyCEw-X"
      }
    },
    {
      "cell_type": "code",
      "source": [
        "def objective(trial):\n",
        "    n_estimators = trial.suggest_int('n_estimators', 50, 300)\n",
        "    max_depth = trial.suggest_int('max_depth', 3, 15)\n",
        "    criterion = trial.suggest_categorical('criterion', ['gini', 'entropy'])\n",
        "\n",
        "    clf = RandomForestClassifier(\n",
        "        n_estimators=n_estimators,\n",
        "        max_depth=max_depth,\n",
        "        criterion=criterion,\n",
        "        random_state=42\n",
        "    )\n",
        "\n",
        "    # 5-fold cross-validation\n",
        "    score = cross_val_score(clf, x_train, y_train, cv=5, scoring='accuracy').mean()\n",
        "    return score\n"
      ],
      "metadata": {
        "id": "jTGAOZyj__R4"
      },
      "execution_count": 8,
      "outputs": []
    },
    {
      "cell_type": "markdown",
      "source": [
        "**Step 3: Run the Optimization**"
      ],
      "metadata": {
        "id": "0uz5q_AYGqro"
      }
    },
    {
      "cell_type": "code",
      "source": [
        "study = optuna.create_study(direction='maximize')\n",
        "study.optimize(objective, n_trials=20)  # Try 20 intelligently selected combinations\n"
      ],
      "metadata": {
        "colab": {
          "base_uri": "https://localhost:8080/"
        },
        "id": "ihM1eScTAHMF",
        "outputId": "2cebb52c-a510-4f22-f66f-87b609201f09"
      },
      "execution_count": 9,
      "outputs": [
        {
          "output_type": "stream",
          "name": "stderr",
          "text": [
            "[I 2025-06-19 07:03:49,927] A new study created in memory with name: no-name-ad636e8d-b936-4dbb-a600-c71529977521\n",
            "[I 2025-06-19 07:03:52,273] Trial 0 finished with value: 0.95 and parameters: {'n_estimators': 224, 'max_depth': 14, 'criterion': 'entropy'}. Best is trial 0 with value: 0.95.\n",
            "[I 2025-06-19 07:03:54,613] Trial 1 finished with value: 0.95 and parameters: {'n_estimators': 264, 'max_depth': 8, 'criterion': 'entropy'}. Best is trial 0 with value: 0.95.\n",
            "[I 2025-06-19 07:03:55,182] Trial 2 finished with value: 0.95 and parameters: {'n_estimators': 58, 'max_depth': 8, 'criterion': 'entropy'}. Best is trial 0 with value: 0.95.\n",
            "[I 2025-06-19 07:03:58,051] Trial 3 finished with value: 0.95 and parameters: {'n_estimators': 241, 'max_depth': 14, 'criterion': 'entropy'}. Best is trial 0 with value: 0.95.\n",
            "[I 2025-06-19 07:03:58,996] Trial 4 finished with value: 0.95 and parameters: {'n_estimators': 87, 'max_depth': 3, 'criterion': 'gini'}. Best is trial 0 with value: 0.95.\n",
            "[I 2025-06-19 07:04:00,311] Trial 5 finished with value: 0.95 and parameters: {'n_estimators': 145, 'max_depth': 11, 'criterion': 'entropy'}. Best is trial 0 with value: 0.95.\n",
            "[I 2025-06-19 07:04:02,169] Trial 6 finished with value: 0.95 and parameters: {'n_estimators': 219, 'max_depth': 5, 'criterion': 'gini'}. Best is trial 0 with value: 0.95.\n",
            "[I 2025-06-19 07:04:03,688] Trial 7 finished with value: 0.95 and parameters: {'n_estimators': 176, 'max_depth': 9, 'criterion': 'entropy'}. Best is trial 0 with value: 0.95.\n",
            "[I 2025-06-19 07:04:04,487] Trial 8 finished with value: 0.9416666666666667 and parameters: {'n_estimators': 89, 'max_depth': 14, 'criterion': 'gini'}. Best is trial 0 with value: 0.95.\n",
            "[I 2025-06-19 07:04:06,754] Trial 9 finished with value: 0.95 and parameters: {'n_estimators': 269, 'max_depth': 3, 'criterion': 'entropy'}. Best is trial 0 with value: 0.95.\n",
            "[I 2025-06-19 07:04:08,454] Trial 10 finished with value: 0.95 and parameters: {'n_estimators': 193, 'max_depth': 12, 'criterion': 'gini'}. Best is trial 0 with value: 0.95.\n",
            "[I 2025-06-19 07:04:12,000] Trial 11 finished with value: 0.9583333333333334 and parameters: {'n_estimators': 295, 'max_depth': 7, 'criterion': 'entropy'}. Best is trial 11 with value: 0.9583333333333334.\n",
            "[I 2025-06-19 07:04:14,439] Trial 12 finished with value: 0.9583333333333334 and parameters: {'n_estimators': 279, 'max_depth': 6, 'criterion': 'entropy'}. Best is trial 11 with value: 0.9583333333333334.\n",
            "[I 2025-06-19 07:04:16,977] Trial 13 finished with value: 0.95 and parameters: {'n_estimators': 300, 'max_depth': 6, 'criterion': 'entropy'}. Best is trial 11 with value: 0.9583333333333334.\n",
            "[I 2025-06-19 07:04:19,853] Trial 14 finished with value: 0.95 and parameters: {'n_estimators': 296, 'max_depth': 6, 'criterion': 'entropy'}. Best is trial 11 with value: 0.9583333333333334.\n",
            "[I 2025-06-19 07:04:21,102] Trial 15 finished with value: 0.95 and parameters: {'n_estimators': 140, 'max_depth': 5, 'criterion': 'entropy'}. Best is trial 11 with value: 0.9583333333333334.\n",
            "[I 2025-06-19 07:04:24,391] Trial 16 finished with value: 0.95 and parameters: {'n_estimators': 261, 'max_depth': 10, 'criterion': 'entropy'}. Best is trial 11 with value: 0.9583333333333334.\n",
            "[I 2025-06-19 07:04:26,736] Trial 17 finished with value: 0.9583333333333334 and parameters: {'n_estimators': 279, 'max_depth': 7, 'criterion': 'entropy'}. Best is trial 11 with value: 0.9583333333333334.\n",
            "[I 2025-06-19 07:04:28,945] Trial 18 finished with value: 0.95 and parameters: {'n_estimators': 239, 'max_depth': 4, 'criterion': 'gini'}. Best is trial 11 with value: 0.9583333333333334.\n",
            "[I 2025-06-19 07:04:30,650] Trial 19 finished with value: 0.95 and parameters: {'n_estimators': 202, 'max_depth': 7, 'criterion': 'entropy'}. Best is trial 11 with value: 0.9583333333333334.\n"
          ]
        }
      ]
    },
    {
      "cell_type": "markdown",
      "source": [
        "**Step 4: Get Best Hyperparameters**"
      ],
      "metadata": {
        "id": "2Hpq60SHGyim"
      }
    },
    {
      "cell_type": "code",
      "source": [
        "print(\"Best Parameters:\", study.best_params)"
      ],
      "metadata": {
        "colab": {
          "base_uri": "https://localhost:8080/"
        },
        "id": "wHGmbhMkALsx",
        "outputId": "6c8887a2-942f-4697-ca55-d3b454a71408"
      },
      "execution_count": 10,
      "outputs": [
        {
          "output_type": "stream",
          "name": "stdout",
          "text": [
            "Best Parameters: {'n_estimators': 295, 'max_depth': 7, 'criterion': 'entropy'}\n"
          ]
        }
      ]
    },
    {
      "cell_type": "markdown",
      "source": [
        "**Step 5: Evaluate Best Model**"
      ],
      "metadata": {
        "id": "lwjzIohUG2Wa"
      }
    },
    {
      "cell_type": "code",
      "source": [
        "best_params = study.best_params\n",
        "best_model = RandomForestClassifier(**best_params, random_state=42)\n",
        "best_model.fit(x_train, y_train)\n",
        "\n",
        "y_pred = best_model.predict(x_test)\n",
        "print(\"Test Accuracy:\", accuracy_score(y_test, y_pred))\n"
      ],
      "metadata": {
        "colab": {
          "base_uri": "https://localhost:8080/"
        },
        "id": "bItCsLFyAcQu",
        "outputId": "5e9ee386-0fc6-487d-d704-7e629ab4f020"
      },
      "execution_count": 12,
      "outputs": [
        {
          "output_type": "stream",
          "name": "stdout",
          "text": [
            "Test Accuracy: 1.0\n"
          ]
        }
      ]
    },
    {
      "cell_type": "code",
      "source": [],
      "metadata": {
        "id": "YJIo3damAgGw"
      },
      "execution_count": null,
      "outputs": []
    }
  ]
}