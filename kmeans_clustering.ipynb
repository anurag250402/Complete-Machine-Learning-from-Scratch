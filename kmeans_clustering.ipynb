{
 "cells": [
  {
   "cell_type": "markdown",
   "id": "ea1b6dfa",
   "metadata": {},
   "source": [
    "# K-Means Clustering\n",
    "\n",
    "This notebook demonstrates K-Means clustering, a popular unsupervised learning algorithm for grouping data into clusters."
   ]
  },
  {
   "cell_type": "markdown",
   "id": "510edfc5",
   "metadata": {},
   "source": [
    "## 1. Import Libraries"
   ]
  },
  {
   "cell_type": "code",
   "execution_count": null,
   "id": "e0fa2e59",
   "metadata": {},
   "outputs": [],
   "source": [
    "import numpy as np\n",
    "import matplotlib.pyplot as plt\n",
    "from sklearn.datasets import make_blobs\n",
    "from sklearn.cluster import KMeans"
   ]
  },
  {
   "cell_type": "markdown",
   "id": "4e8790b1",
   "metadata": {},
   "source": [
    "## 2. Generate Example Data"
   ]
  },
  {
   "cell_type": "code",
   "execution_count": null,
   "id": "dd1279f4",
   "metadata": {},
   "outputs": [],
   "source": [
    "X, _ = make_blobs(n_samples=300, centers=4, random_state=42)\n",
    "plt.scatter(X[:, 0], X[:, 1], c='gray', alpha=0.6)\n",
    "plt.title('Data for K-Means')\n",
    "plt.xlabel('Feature 1')\n",
    "plt.ylabel('Feature 2')\n",
    "plt.show()"
   ]
  },
  {
   "cell_type": "markdown",
   "id": "f89eebfa",
   "metadata": {},
   "source": [
    "## 3. Run K-Means Clustering"
   ]
  },
  {
   "cell_type": "code",
   "execution_count": null,
   "id": "5b185c8b",
   "metadata": {},
   "outputs": [],
   "source": [
    "kmeans = KMeans(n_clusters=4, random_state=42)\n",
    "labels = kmeans.fit_predict(X)\n",
    "plt.scatter(X[:, 0], X[:, 1], c=labels, cmap='viridis', alpha=0.6)\n",
    "plt.scatter(kmeans.cluster_centers_[:,0], kmeans.cluster_centers_[:,1], s=200, c='red', marker='X', label='Centers')\n",
    "plt.title('K-Means Clustering Results')\n",
    "plt.xlabel('Feature 1')\n",
    "plt.ylabel('Feature 2')\n",
    "plt.legend()\n",
    "plt.show()"
   ]
  },
  {
   "cell_type": "markdown",
   "id": "dd8580ce",
   "metadata": {},
   "source": [
    "## 4. How K-Means Works\n",
    "- Choose k (number of clusters)\n",
    "- Randomly assign cluster centers\n",
    "- Assign points to the nearest center\n",
    "- Recompute centers and repeat until stable"
   ]
  },
  {
   "cell_type": "markdown",
   "id": "b76c1879",
   "metadata": {},
   "source": [
    "## 5. Choosing k (Elbow Method)"
   ]
  },
  {
   "cell_type": "code",
   "execution_count": null,
   "id": "72e9a4e8",
   "metadata": {},
   "outputs": [],
   "source": [
    "inertia = []\n",
    "ks = range(1, 10)\n",
    "for k in ks:\n",
    "    kmeans = KMeans(n_clusters=k, random_state=42)\n",
    "    kmeans.fit(X)\n",
    "    inertia.append(kmeans.inertia_)\n",
    "plt.plot(ks, inertia, 'o-')\n",
    "plt.xlabel('Number of Clusters (k)')\n",
    "plt.ylabel('Inertia (within-cluster sum of squares)')\n",
    "plt.title('Elbow Method for Optimal k')\n",
    "plt.show()"
   ]
  },
  {
   "cell_type": "markdown",
   "id": "4130430a",
   "metadata": {},
   "source": [
    "## 6. Summary\n",
    "- K-Means is simple and efficient for clustering.\n",
    "- You must specify the number of clusters in advance.\n",
    "- Results can vary based on initialization and choice of k."
   ]
  }
 ],
 "metadata": {},
 "nbformat": 4,
 "nbformat_minor": 5
}
