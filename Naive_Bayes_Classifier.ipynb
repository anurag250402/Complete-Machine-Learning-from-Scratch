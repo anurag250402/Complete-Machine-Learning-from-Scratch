{
 "cells": [
  {
   "cell_type": "markdown",
   "id": "3cba9a8d",
   "metadata": {},
   "source": [
    "# Naive Bayes Classifier (GaussianNB & MultinomialNB) Implementation Step-by-Step"
   ]
  },
  {
   "cell_type": "markdown",
   "id": "24a74482",
   "metadata": {},
   "source": [
    "## Step 1: Install Required Libraries"
   ]
  },
  {
   "cell_type": "code",
   "execution_count": null,
   "id": "03f88f74",
   "metadata": {},
   "outputs": [],
   "source": [
    "!pip install scikit-learn pandas matplotlib"
   ]
  },
  {
   "cell_type": "markdown",
   "id": "f615c3bd",
   "metadata": {},
   "source": [
    "## Step 2: Import Required Libraries"
   ]
  },
  {
   "cell_type": "code",
   "execution_count": null,
   "id": "8e5b9538",
   "metadata": {},
   "outputs": [],
   "source": [
    "import pandas as pd\n",
    "import numpy as np\n",
    "import matplotlib.pyplot as plt\n",
    "from sklearn.model_selection import train_test_split\n",
    "from sklearn.metrics import accuracy_score, confusion_matrix, classification_report\n",
    "from sklearn.naive_bayes import GaussianNB, MultinomialNB\n"
   ]
  },
  {
   "cell_type": "markdown",
   "id": "99fc0aba",
   "metadata": {},
   "source": [
    "## Step 3: Load Dataset"
   ]
  },
  {
   "cell_type": "code",
   "execution_count": null,
   "id": "a189b956",
   "metadata": {},
   "outputs": [],
   "source": [
    "from sklearn.datasets import load_iris\n",
    "data = load_iris()\n",
    "X = pd.DataFrame(data.data, columns=data.feature_names)\n",
    "y = pd.Series(data.target)\n"
   ]
  },
  {
   "cell_type": "markdown",
   "id": "1f41eb9e",
   "metadata": {},
   "source": [
    "## Step 4: Train-Test Split"
   ]
  },
  {
   "cell_type": "code",
   "execution_count": null,
   "id": "e3db4b7c",
   "metadata": {},
   "outputs": [],
   "source": [
    "X_train, X_test, y_train, y_test = train_test_split(X, y, test_size=0.2, random_state=42)"
   ]
  },
  {
   "cell_type": "markdown",
   "id": "527184f9",
   "metadata": {},
   "source": [
    "## Step 5: Initialize and Train the Model"
   ]
  },
  {
   "cell_type": "code",
   "execution_count": null,
   "id": "da859919",
   "metadata": {},
   "outputs": [],
   "source": [
    "# Using GaussianNB for continuous features\n",
    "model = GaussianNB()\n",
    "model.fit(X_train, y_train)"
   ]
  },
  {
   "cell_type": "markdown",
   "id": "6577cabf",
   "metadata": {},
   "source": [
    "## Step 6: Evaluate the Model"
   ]
  },
  {
   "cell_type": "code",
   "execution_count": null,
   "id": "5715e7ae",
   "metadata": {},
   "outputs": [],
   "source": [
    "y_pred = model.predict(X_test)\n",
    "print(\"Accuracy:\", accuracy_score(y_test, y_pred))\n",
    "print(\"Confusion Matrix:\\n\", confusion_matrix(y_test, y_pred))\n",
    "print(\"Classification Report:\\n\", classification_report(y_test, y_pred))\n"
   ]
  }
 ],
 "metadata": {},
 "nbformat": 4,
 "nbformat_minor": 5
}
