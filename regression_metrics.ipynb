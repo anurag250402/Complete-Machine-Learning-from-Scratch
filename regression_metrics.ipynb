{
 "cells": [
  {
   "cell_type": "markdown",
   "id": "78198bd7",
   "metadata": {},
   "source": [
    "# Regression Metrics (MAE, RMSE, R²)\n",
    "\n",
    "This notebook demonstrates how to calculate and interpret common regression metrics: **Mean Absolute Error (MAE)**, **Root Mean Squared Error (RMSE)**, and **R² (Coefficient of Determination)**. We'll use a simple regression problem with scikit-learn's built-in datasets."
   ]
  },
  {
   "cell_type": "markdown",
   "id": "9ec9159a",
   "metadata": {},
   "source": [
    "## 1. Import Libraries"
   ]
  },
  {
   "cell_type": "code",
   "execution_count": null,
   "id": "e040709e",
   "metadata": {},
   "outputs": [],
   "source": [
    "import numpy as np\n",
    "import pandas as pd\n",
    "import matplotlib.pyplot as plt\n",
    "from sklearn.model_selection import train_test_split\n",
    "from sklearn.linear_model import LinearRegression\n",
    "from sklearn.metrics import mean_absolute_error, mean_squared_error, r2_score"
   ]
  },
  {
   "cell_type": "markdown",
   "id": "ffbbec6b",
   "metadata": {},
   "source": [
    "## 2. Load Example Dataset\n",
    "We'll use the diabetes dataset from sklearn."
   ]
  },
  {
   "cell_type": "code",
   "execution_count": null,
   "id": "30e84a7a",
   "metadata": {},
   "outputs": [],
   "source": [
    "from sklearn.datasets import load_diabetes\n",
    "\n",
    "data = load_diabetes()\n",
    "X = pd.DataFrame(data.data, columns=data.feature_names)\n",
    "y = pd.Series(data.target, name='target')\n",
    "X_train, X_test, y_train, y_test = train_test_split(X, y, test_size=0.2, random_state=42)\n",
    "print('Train shape:', X_train.shape)\n",
    "print('Test shape:', X_test.shape)"
   ]
  },
  {
   "cell_type": "markdown",
   "id": "e7309e63",
   "metadata": {},
   "source": [
    "## 3. Train a Linear Regression Model"
   ]
  },
  {
   "cell_type": "code",
   "execution_count": null,
   "id": "6049baa3",
   "metadata": {},
   "outputs": [],
   "source": [
    "reg = LinearRegression()\n",
    "reg.fit(X_train, y_train)\n",
    "y_pred = reg.predict(X_test)"
   ]
  },
  {
   "cell_type": "markdown",
   "id": "118d2ad5",
   "metadata": {},
   "source": [
    "## 4. Mean Absolute Error (MAE)\n",
    "**MAE** measures the average magnitude of errors in a set of predictions, without considering their direction.\n",
    "\\[\n",
    "MAE = \\frac{1}{n} \\sum_{i=1}^{n} |y_i - \\hat{y}_i|\n",
    "\\]\n"
   ]
  },
  {
   "cell_type": "code",
   "execution_count": null,
   "id": "7c6752f7",
   "metadata": {},
   "outputs": [],
   "source": [
    "mae = mean_absolute_error(y_test, y_pred)\n",
    "print(f'Mean Absolute Error (MAE): {mae:.2f}')"
   ]
  },
  {
   "cell_type": "markdown",
   "id": "367a860e",
   "metadata": {},
   "source": [
    "## 5. Root Mean Squared Error (RMSE)\n",
    "**RMSE** is the square root of the average of squared differences between actual and predicted values.\n",
    "\\[\n",
    "RMSE = \\sqrt{\\frac{1}{n} \\sum_{i=1}^{n} (y_i - \\hat{y}_i)^2}\n",
    "\\]\n"
   ]
  },
  {
   "cell_type": "code",
   "execution_count": null,
   "id": "ce343039",
   "metadata": {},
   "outputs": [],
   "source": [
    "rmse = np.sqrt(mean_squared_error(y_test, y_pred))\n",
    "print(f'Root Mean Squared Error (RMSE): {rmse:.2f}')"
   ]
  },
  {
   "cell_type": "markdown",
   "id": "753269d1",
   "metadata": {},
   "source": [
    "## 6. R² Score (Coefficient of Determination)\n",
    "The **R² score** indicates how well the model explains the variability of the response data.\n",
    "\\[\n",
    "R^2 = 1 - \\frac{\\sum (y_i - \\hat{y}_i)^2}{\\sum (y_i - \\bar{y})^2}\n",
    "\\]\n",
    "Ranges from 0 (poor fit) to 1 (perfect fit)."
   ]
  },
  {
   "cell_type": "code",
   "execution_count": null,
   "id": "48096d97",
   "metadata": {},
   "outputs": [],
   "source": [
    "r2 = r2_score(y_test, y_pred)\n",
    "print(f'R² Score: {r2:.2f}')"
   ]
  },
  {
   "cell_type": "markdown",
   "id": "f84e5364",
   "metadata": {},
   "source": [
    "## 7. Visualizing Predictions vs. True Values"
   ]
  },
  {
   "cell_type": "code",
   "execution_count": null,
   "id": "2713033f",
   "metadata": {},
   "outputs": [],
   "source": [
    "plt.figure(figsize=(6,4))\n",
    "plt.scatter(y_test, y_pred, alpha=0.7)\n",
    "plt.xlabel('True Values')\n",
    "plt.ylabel('Predicted Values')\n",
    "plt.title('Regression: True vs. Predicted')\n",
    "plt.plot([y_test.min(), y_test.max()], [y_test.min(), y_test.max()], 'r--')\n",
    "plt.show()"
   ]
  },
  {
   "cell_type": "markdown",
   "id": "4567cb5b",
   "metadata": {},
   "source": [
    "## 8. Summary\n",
    "- **MAE**: Average magnitude of error, easy to interpret.\n",
    "- **RMSE**: Penalizes larger errors more, sensitive to outliers.\n",
    "- **R²**: Shows the proportion of variance explained by the model."
   ]
  }
 ],
 "metadata": {},
 "nbformat": 4,
 "nbformat_minor": 5
}
