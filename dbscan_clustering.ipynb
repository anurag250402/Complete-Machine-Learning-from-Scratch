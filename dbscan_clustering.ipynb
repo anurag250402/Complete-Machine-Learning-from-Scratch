{
 "cells": [
  {
   "cell_type": "markdown",
   "id": "4090c24d",
   "metadata": {},
   "source": [
    "# DBSCAN Clustering\n",
    "\n",
    "This notebook demonstrates DBSCAN, a density-based clustering algorithm that can find arbitrarily shaped clusters and outliers."
   ]
  },
  {
   "cell_type": "markdown",
   "id": "314a1fe4",
   "metadata": {},
   "source": [
    "## 1. Import Libraries"
   ]
  },
  {
   "cell_type": "code",
   "execution_count": null,
   "id": "65866286",
   "metadata": {},
   "outputs": [],
   "source": [
    "import numpy as np\n",
    "import matplotlib.pyplot as plt\n",
    "from sklearn.datasets import make_moons\n",
    "from sklearn.cluster import DBSCAN"
   ]
  },
  {
   "cell_type": "markdown",
   "id": "33c69a03",
   "metadata": {},
   "source": [
    "## 2. Generate Example Data (moons)"
   ]
  },
  {
   "cell_type": "code",
   "execution_count": null,
   "id": "13a1e4da",
   "metadata": {},
   "outputs": [],
   "source": [
    "X, _ = make_moons(n_samples=300, noise=0.1, random_state=42)\n",
    "plt.scatter(X[:, 0], X[:, 1], c='gray', alpha=0.6)\n",
    "plt.title('Data for DBSCAN')\n",
    "plt.xlabel('Feature 1')\n",
    "plt.ylabel('Feature 2')\n",
    "plt.show()"
   ]
  },
  {
   "cell_type": "markdown",
   "id": "1dc78b67",
   "metadata": {},
   "source": [
    "## 3. Run DBSCAN"
   ]
  },
  {
   "cell_type": "code",
   "execution_count": null,
   "id": "6a2a23c1",
   "metadata": {},
   "outputs": [],
   "source": [
    "db = DBSCAN(eps=0.2, min_samples=5)\n",
    "labels = db.fit_predict(X)\n",
    "plt.scatter(X[:, 0], X[:, 1], c=labels, cmap='plasma', alpha=0.7)\n",
    "plt.title('DBSCAN Clustering Results')\n",
    "plt.xlabel('Feature 1')\n",
    "plt.ylabel('Feature 2')\n",
    "plt.show()"
   ]
  },
  {
   "cell_type": "markdown",
   "id": "84c31ed6",
   "metadata": {},
   "source": [
    "## 4. Key Points\n",
    "- DBSCAN does not require the number of clusters in advance.\n",
    "- Good for detecting outliers (labeled as -1).\n",
    "- Works well for data with clusters of similar density.\n",
    "- Parameters: `eps` (neighborhood size) and `min_samples` (minimum points for a dense region)."
   ]
  }
 ],
 "metadata": {},
 "nbformat": 4,
 "nbformat_minor": 5
}
