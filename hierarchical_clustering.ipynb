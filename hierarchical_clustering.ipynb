{
 "cells": [
  {
   "cell_type": "markdown",
   "id": "1751ca73",
   "metadata": {},
   "source": [
    "# Hierarchical Clustering\n",
    "\n",
    "This notebook demonstrates hierarchical (agglomerative) clustering, which builds nested clusters by merging or splitting them successively."
   ]
  },
  {
   "cell_type": "markdown",
   "id": "f8b69849",
   "metadata": {},
   "source": [
    "## 1. Import Libraries"
   ]
  },
  {
   "cell_type": "code",
   "execution_count": null,
   "id": "a71baecb",
   "metadata": {},
   "outputs": [],
   "source": [
    "import numpy as np\n",
    "import matplotlib.pyplot as plt\n",
    "from sklearn.datasets import make_blobs\n",
    "from sklearn.cluster import AgglomerativeClustering\n",
    "from scipy.cluster.hierarchy import dendrogram, linkage"
   ]
  },
  {
   "cell_type": "markdown",
   "id": "d790ec77",
   "metadata": {},
   "source": [
    "## 2. Generate Example Data"
   ]
  },
  {
   "cell_type": "code",
   "execution_count": null,
   "id": "e331d4c8",
   "metadata": {},
   "outputs": [],
   "source": [
    "X, _ = make_blobs(n_samples=200, centers=3, random_state=42)\n",
    "plt.scatter(X[:, 0], X[:, 1], c='gray', alpha=0.6)\n",
    "plt.title('Data for Hierarchical Clustering')\n",
    "plt.xlabel('Feature 1')\n",
    "plt.ylabel('Feature 2')\n",
    "plt.show()"
   ]
  },
  {
   "cell_type": "markdown",
   "id": "b0c1365d",
   "metadata": {},
   "source": [
    "## 3. Dendrogram Visualization"
   ]
  },
  {
   "cell_type": "code",
   "execution_count": null,
   "id": "b30f9569",
   "metadata": {},
   "outputs": [],
   "source": [
    "linked = linkage(X, method='ward')\n",
    "plt.figure(figsize=(10, 5))\n",
    "dendrogram(linked)\n",
    "plt.title('Dendrogram')\n",
    "plt.xlabel('Sample Index')\n",
    "plt.ylabel('Distance')\n",
    "plt.show()"
   ]
  },
  {
   "cell_type": "markdown",
   "id": "b7b4e696",
   "metadata": {},
   "source": [
    "## 4. Agglomerative Clustering"
   ]
  },
  {
   "cell_type": "code",
   "execution_count": null,
   "id": "96a8459b",
   "metadata": {},
   "outputs": [],
   "source": [
    "agg = AgglomerativeClustering(n_clusters=3)\n",
    "labels = agg.fit_predict(X)\n",
    "plt.scatter(X[:, 0], X[:, 1], c=labels, cmap='viridis', alpha=0.6)\n",
    "plt.title('Agglomerative Clustering Results')\n",
    "plt.xlabel('Feature 1')\n",
    "plt.ylabel('Feature 2')\n",
    "plt.show()"
   ]
  },
  {
   "cell_type": "markdown",
   "id": "44547136",
   "metadata": {},
   "source": [
    "## 5. Key Points\n",
    "- Hierarchical clustering does not require specifying the number of clusters up front (dendrogram can help decide).\n",
    "- Works well for smaller datasets and for understanding data structure.\n",
    "- Common linkage methods: single, complete, average, ward."
   ]
  }
 ],
 "metadata": {},
 "nbformat": 4,
 "nbformat_minor": 5
}
